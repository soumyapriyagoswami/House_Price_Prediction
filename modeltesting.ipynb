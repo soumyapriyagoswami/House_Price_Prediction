{
 "cells": [
  {
   "cell_type": "code",
   "execution_count": 2,
   "id": "abc09048-958c-4b57-be03-3b23bb843ed2",
   "metadata": {},
   "outputs": [],
   "source": [
    "from joblib import dump,load\n",
    "import numpy as np\n",
    "model=load('soumya_dragon.joblib')"
   ]
  },
  {
   "cell_type": "code",
   "execution_count": 3,
   "id": "adee5764-aa14-47ff-a79f-41fe849a412d",
   "metadata": {},
   "outputs": [
    {
     "data": {
      "text/plain": [
       "array([22.463, 25.471, 16.331, 23.488, 23.459])"
      ]
     },
     "execution_count": 3,
     "metadata": {},
     "output_type": "execute_result"
    }
   ],
   "source": [
    "input=np.array([[-0.43942006,  3.12628155, -1.12165014, -0.27288841, -1.42262747,\n",
    "        -0.23979304, -1.31238772,  2.61111401, -1.0016859 , -0.5778192 ,\n",
    "        -0.97491834,  0.41164221, -0.86091034],\n",
    "       [-0.44352175,  3.12628155, -1.35893781, -0.27288841, -1.0542567 ,\n",
    "         0.5009123 , -1.3938808 ,  2.19312325, -0.65766683, -0.78557904,\n",
    "        -0.69277865,  0.39131918, -0.94116739],\n",
    "       [ 0.15682292, -0.4898311 ,  0.98336806, -0.27288841,  0.47919371,\n",
    "         0.28867984,  0.87020968, -0.68730678,  1.63579367,  1.50571521,\n",
    "         0.81196637,  0.44624347,  0.81480158],\n",
    "       [-0.42292925, -0.4898311 , -0.57719868, -0.27288841, -0.5573845 ,\n",
    "         0.13688444, -0.52225911,  0.37882487, -0.5429938 , -0.74402708,\n",
    "         0.52982668,  0.45343469, -0.81939807],\n",
    "       [-0.40786253, -0.4898311 , -0.57719868, -0.27288841, -0.5573845 ,\n",
    "         0.04693161, -1.42222622,  0.79643404, -0.5429938 , -0.74402708,\n",
    "         0.52982668,  0.45343469, -0.91902752]])\n",
    "model.predict(input)"
   ]
  },
  {
   "cell_type": "code",
   "execution_count": null,
   "id": "b5783334-ea6d-42bb-80a2-7f1d564c890a",
   "metadata": {},
   "outputs": [],
   "source": []
  }
 ],
 "metadata": {
  "kernelspec": {
   "display_name": "Python 3 (ipykernel)",
   "language": "python",
   "name": "python3"
  },
  "language_info": {
   "codemirror_mode": {
    "name": "ipython",
    "version": 3
   },
   "file_extension": ".py",
   "mimetype": "text/x-python",
   "name": "python",
   "nbconvert_exporter": "python",
   "pygments_lexer": "ipython3",
   "version": "3.11.4"
  }
 },
 "nbformat": 4,
 "nbformat_minor": 5
}
